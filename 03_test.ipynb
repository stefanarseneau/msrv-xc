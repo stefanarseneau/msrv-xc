{
 "cells": [
  {
   "cell_type": "code",
   "execution_count": 3,
   "metadata": {
    "tags": []
   },
   "outputs": [],
   "source": [
    "import msrvxc"
   ]
  },
  {
   "cell_type": "code",
   "execution_count": 4,
   "metadata": {
    "tags": []
   },
   "outputs": [
    {
     "name": "stdout",
     "output_type": "stream",
     "text": [
      "0 / 15\n",
      "https://archive.stsci.edu/missions/hlsp/bosz/fits/insbroad_010000/metal_-2.50/carbon_+0.00/alpha_+0.00/amm25cp00op00t3500g35v20modrt0b10000rs.fits\n",
      "https://archive.stsci.edu/missions/hlsp/bosz/fits/insbroad_010000/metal_-2.50/carbon_+0.00/alpha_+0.00/amm25cp00op00t3500g40v20modrt0b10000rs.fits\n",
      "https://archive.stsci.edu/missions/hlsp/bosz/fits/insbroad_010000/metal_-2.50/carbon_+0.00/alpha_+0.00/amm25cp00op00t3500g45v20modrt0b10000rs.fits\n",
      "https://archive.stsci.edu/missions/hlsp/bosz/fits/insbroad_010000/metal_-2.50/carbon_+0.00/alpha_+0.00/amm25cp00op00t3500g50v20modrt0b10000rs.fits\n",
      "1 / 15\n",
      "2 / 15\n",
      "3 / 15\n",
      "4 / 15\n",
      "5 / 15\n",
      "6 / 15\n",
      "7 / 15\n",
      "8 / 15\n",
      "9 / 15\n",
      "10 / 15\n",
      "11 / 15\n",
      "12 / 15\n",
      "13 / 15\n",
      "14 / 15\n"
     ]
    }
   ],
   "source": [
    "msrvxc.build.build_grid()"
   ]
  },
  {
   "cell_type": "code",
   "execution_count": null,
   "metadata": {},
   "outputs": [],
   "source": [
    "https://archive.stsci.edu/missions/hlsp/bosz/fits/insbroad_010000/metal_-1.50/carbon_+0.00/alpha_+0.00/amm15cp00op00t4750g45v20modrt0b10000rs.fits\n",
    "https://archive.stsci.edu/missions/hlsp/bosz/fits/insbroad_010000/metal_-1.50/carbon_+0.00/alpha_+0.00/amm15cp00op00t4750g45v20modrt0b10000rs.fits"
   ]
  }
 ],
 "metadata": {
  "kernelspec": {
   "display_name": "Python 3 (ipykernel)",
   "language": "python",
   "name": "python3"
  },
  "language_info": {
   "codemirror_mode": {
    "name": "ipython",
    "version": 3
   },
   "file_extension": ".py",
   "mimetype": "text/x-python",
   "name": "python",
   "nbconvert_exporter": "python",
   "pygments_lexer": "ipython3",
   "version": "3.9.13"
  }
 },
 "nbformat": 4,
 "nbformat_minor": 4
}
