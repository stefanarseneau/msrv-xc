{
 "cells": [
  {
   "cell_type": "code",
   "execution_count": 1,
   "metadata": {
    "tags": []
   },
   "outputs": [],
   "source": [
    "import msrvxc\n",
    "import numpy as np\n",
    "import pickle\n",
    "\n",
    "import matplotlib.pyplot as plt\n",
    "from tqdm import tqdm\n",
    "\n",
    "from astroquery.sdss import SDSS\n",
    "from astroquery.gaia import Gaia"
   ]
  },
  {
   "cell_type": "code",
   "execution_count": null,
   "metadata": {
    "tags": []
   },
   "outputs": [
    {
     "name": "stdout",
     "output_type": "stream",
     "text": [
      "[0]\n",
      "[0]\n",
      "https://archive.stsci.edu/missions/hlsp/bosz/fits/insbroad_010000/metal_+0.00/carbon_+0.00/alpha_+0.00/amp00cp00op00t10000g20v20modrt0b10000rs.fits\n"
     ]
    },
    {
     "name": "stderr",
     "output_type": "stream",
     "text": [
      "  0%|                                                                                            | 0/15 [00:00<?, ?it/s]"
     ]
    }
   ],
   "source": [
    "wvl, raw_values, interp_bosz, interp_bosz_norm = msrvxc.build.build_bosz_grid(wl_range = [3600, 9000])"
   ]
  },
  {
   "cell_type": "code",
   "execution_count": null,
   "metadata": {
    "tags": []
   },
   "outputs": [],
   "source": [
    "with open('grids/interp_bosz_norm.pkl', 'wb') as f:\n",
    "    pickle.dump(interp_bosz_norm, f)\n",
    "    \n",
    "with open('grids/interp_bosz.pkl', 'wb') as f:\n",
    "    pickle.dump(interp_bosz, f)\n",
    "    \n",
    "np.save('grids/wavl.npy',wvl)"
   ]
  },
  {
   "cell_type": "code",
   "execution_count": null,
   "metadata": {},
   "outputs": [],
   "source": [
    "with open('grids/interp_bosz.pkl', 'rb') as f:\n",
    "    interp_bosz = pickle.load(f)\n",
    "    \n",
    "with open('grids/interp_bosz_norm.pkl', 'rb') as f:\n",
    "    interp_bosz_norm = pickle.load(f)\n",
    "    \n",
    "wvl = np.linspace(3600, 9000, 23074)"
   ]
  },
  {
   "cell_type": "code",
   "execution_count": null,
   "metadata": {
    "tags": []
   },
   "outputs": [],
   "source": [
    "#params = (4999.848788360524,\n",
    "#3.812724027560155,\n",
    "#0.4084144628961131,\n",
    "#0.5593886093528815)\n",
    "#\n",
    "#plt.plot(wvl, interp_bosz_norm(params), alpha = 0.3)\n",
    "#plt.plot(wvl, interp_bosz((4213, 4.6, -2.3, 0)), alpha = 0.3)"
   ]
  },
  {
   "cell_type": "code",
   "execution_count": null,
   "metadata": {},
   "outputs": [],
   "source": [
    "#import msrvxc\n",
    "#\n",
    "#\n",
    "#sampler, nwalkers, ndim = msrvxc.fit.fit_rv(interp_bosz_norm, wvl, interp_bosz_norm((4213, 4.1, -2.3, 100)))"
   ]
  },
  {
   "cell_type": "code",
   "execution_count": null,
   "metadata": {
    "tags": []
   },
   "outputs": [],
   "source": [
    "#fig, axes = plt.subplots(4, figsize=(10, 7), sharex=True)\n",
    "#samples = sampler.get_chain()\n",
    "#labels = [\"Teff\", \"logg\", \"Z\", \"rv\"]\n",
    "#for i in range(ndim):\n",
    "#    ax = axes[i]\n",
    "#    ax.plot(samples[:, :, i], \"k\", alpha=0.3)\n",
    "#    ax.set_xlim(0, len(samples))\n",
    "#    ax.set_ylabel(labels[i])\n",
    "#    ax.yaxis.set_label_coords(-0.1, 0.5)\n",
    "#\n",
    "#axes[-1].set_xlabel(\"step number\");"
   ]
  },
  {
   "cell_type": "code",
   "execution_count": null,
   "metadata": {
    "tags": []
   },
   "outputs": [],
   "source": [
    "#flat_samples = sampler.get_chain(discard=100, thin=15, flat=True)\n",
    "#print(flat_samples.shape)"
   ]
  },
  {
   "cell_type": "code",
   "execution_count": null,
   "metadata": {
    "tags": []
   },
   "outputs": [],
   "source": [
    "#import corner\n",
    "#\n",
    "#fig = corner.corner(\n",
    "#    flat_samples, labels=labels, truths=[4213, 4.1, -2.3, 0]\n",
    "#);"
   ]
  },
  {
   "cell_type": "code",
   "execution_count": null,
   "metadata": {
    "tags": []
   },
   "outputs": [],
   "source": [
    "#X = np.median(flat_samples,axis=0)\n",
    "#T, logg, Z, rv = X[:4]\n",
    "#\n",
    "#print(T, logg, Z, rv)"
   ]
  },
  {
   "cell_type": "code",
   "execution_count": null,
   "metadata": {
    "tags": []
   },
   "outputs": [],
   "source": [
    "GAIA_ADQL = \"\"\"SELECT gaia.radial_velocity, gaia.radial_velocity_error, gaia.rv_template_teff, gaia.rv_template_logg, sdss.original_ext_source_id as bestobjid\n",
    "    FROM gaiadr3.gaia_source as gaia\n",
    "    JOIN gaiaedr3.sdssdr13_best_neighbour as sdss\n",
    "    ON gaia.source_id = sdss.source_id      \n",
    "    WHERE gaia.radial_velocity BETWEEN -100 AND 100 AND\n",
    "    gaia.rv_template_teff BETWEEN 3500 AND 7000 AND\n",
    "    gaia.rv_template_logg BETWEEN 2.5 AND 5\"\"\"\n",
    "\n",
    "job1 = Gaia.launch_job(GAIA_ADQL,dump_to_file=False)\n",
    "d1 = job1.get_results()"
   ]
  },
  {
   "cell_type": "code",
   "execution_count": null,
   "metadata": {
    "tags": []
   },
   "outputs": [],
   "source": [
    "from astropy.table import Table, vstack, hstack\n",
    "\n",
    "\n",
    "stardats = []\n",
    "iters = len(d1) // 100\n",
    "\n",
    "for i in tqdm(range(iters)):\n",
    "    SDSS_QUERY = \"\"\"select bestObjID as bestobjid, plate, mjd, fiberID, subClass\n",
    "        from dbo.SpecObjAll\n",
    "        where bestObjID in {}\"\"\".format(tuple(d1['bestobjid'][100*i:100*i+100]))\n",
    "    try:\n",
    "        f = SDSS.query_sql(SDSS_QUERY)\n",
    "        if f is not None:\n",
    "            stardats.append(SDSS.query_sql(SDSS_QUERY))\n",
    "    except:\n",
    "        pass\n",
    "spec = vstack(stardats)"
   ]
  },
  {
   "cell_type": "code",
   "execution_count": null,
   "metadata": {
    "tags": []
   },
   "outputs": [],
   "source": [
    "from astropy.table import Table, join\n",
    "\n",
    "data = join(spec, d1, keys = 'bestobjid')\n",
    "data"
   ]
  },
  {
   "cell_type": "code",
   "execution_count": null,
   "metadata": {
    "tags": []
   },
   "outputs": [],
   "source": [
    "i = 1\n",
    "\n",
    "spec = SDSS.get_spectra(plate=data['plate'][i], fiberID=data['fiberID'][i], mjd=data['mjd'][i])[0]"
   ]
  },
  {
   "cell_type": "code",
   "execution_count": null,
   "metadata": {
    "tags": []
   },
   "outputs": [],
   "source": [
    "wl = (10**spec[1].data['loglam'])\n",
    "fl = (spec[1].data['flux'])\n",
    "ivar = (spec[1].data['ivar'])\n",
    "\n",
    "params = (data['rv_template_teff'][i], data['rv_template_logg'][i], -2.3, data['radial_velocity'][i])\n",
    "\n",
    "plt.plot(wl, msrvxc.utils.continuum_normalize(wl, fl, avg_size = 1000)[1])\n",
    "plt.plot(wvl, interp_bosz_norm(params), alpha = 0.3)"
   ]
  },
  {
   "cell_type": "code",
   "execution_count": null,
   "metadata": {
    "tags": []
   },
   "outputs": [],
   "source": [
    "for i in range(len(wl)):\n",
    "    if np.isnan(wl[i]):\n",
    "        print(i)"
   ]
  },
  {
   "cell_type": "code",
   "execution_count": null,
   "metadata": {
    "tags": []
   },
   "outputs": [],
   "source": [
    "sampler, nwalkers, ndim = msrvxc.fit.fit_rv(interp_bosz_norm, wl, msrvxc.utils.continuum_normalize(wl, fl)[1], ivar)"
   ]
  },
  {
   "cell_type": "code",
   "execution_count": null,
   "metadata": {
    "tags": []
   },
   "outputs": [],
   "source": [
    "fig, axes = plt.subplots(4, figsize=(10, 7), sharex=True)\n",
    "samples = sampler.get_chain()\n",
    "labels = [\"Teff\", \"logg\", \"Z\", \"rv\"]\n",
    "for i in range(ndim):\n",
    "    ax = axes[i]\n",
    "    ax.plot(samples[:, :, i], \"k\", alpha=0.3)\n",
    "    ax.set_xlim(0, len(samples))\n",
    "    ax.set_ylabel(labels[i])\n",
    "    ax.yaxis.set_label_coords(-0.1, 0.5)\n",
    "\n",
    "axes[-1].set_xlabel(\"step number\");"
   ]
  },
  {
   "cell_type": "code",
   "execution_count": null,
   "metadata": {
    "tags": []
   },
   "outputs": [],
   "source": [
    "flat_samples = sampler.get_chain(discard=100, thin=15, flat=True)\n",
    "print(flat_samples.shape)"
   ]
  },
  {
   "cell_type": "code",
   "execution_count": null,
   "metadata": {
    "tags": []
   },
   "outputs": [],
   "source": [
    "import corner\n",
    "\n",
    "fig = corner.corner(\n",
    "    flat_samples, labels=labels, truths=params\n",
    ");"
   ]
  },
  {
   "cell_type": "code",
   "execution_count": null,
   "metadata": {
    "tags": []
   },
   "outputs": [],
   "source": [
    "X = np.median(flat_samples,axis=0)\n",
    "T, logg, Z, rv = X[:4]\n",
    "\n",
    "print(len(interp_bosz_norm((T, logg, Z, rv))))\n",
    "\n",
    "plt.plot(wl, fl*1e17, label='spectrum')\n",
    "plt.plot(wvl, interp_bosz((T, logg, Z, rv)), alpha = 0.3, label = 'median parameters')\n",
    "plt.legend()"
   ]
  },
  {
   "cell_type": "code",
   "execution_count": null,
   "metadata": {},
   "outputs": [],
   "source": []
  }
 ],
 "metadata": {
  "kernelspec": {
   "display_name": "Python 3 (ipykernel)",
   "language": "python",
   "name": "python3"
  },
  "language_info": {
   "codemirror_mode": {
    "name": "ipython",
    "version": 3
   },
   "file_extension": ".py",
   "mimetype": "text/x-python",
   "name": "python",
   "nbconvert_exporter": "python",
   "pygments_lexer": "ipython3",
   "version": "3.9.13"
  }
 },
 "nbformat": 4,
 "nbformat_minor": 4
}
